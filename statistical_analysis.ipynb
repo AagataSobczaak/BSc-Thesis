{
 "cells": [
  {
   "cell_type": "code",
   "execution_count": 12,
   "metadata": {},
   "outputs": [],
   "source": [
    "import pandas as pd\n",
    "import matplotlib.pyplot as plt\n",
    "import seaborn as sns\n",
    "import os "
   ]
  },
  {
   "cell_type": "code",
   "execution_count": 13,
   "metadata": {},
   "outputs": [],
   "source": [
    "data_test = pd.read_csv(\"Sounds_1_seconds/mfcc_1_sec/test_13_mfcc_features_with_labels_1sec.csv\")\n",
    "data_train = pd.read_csv(\"Sounds_1_seconds/mfcc_1_sec/train_13_mfcc_features_with_labels_1sec.csv\")\n",
    "\n",
    "combined_data = pd.concat([data_test, data_train], ignore_index=True)\n",
    "combined_data.to_csv('Sounds_1_seconds/mfcc_1_sec/boxplot_combined_mfcc_features.csv', index=False)\n"
   ]
  },
  {
   "cell_type": "code",
   "execution_count": 18,
   "metadata": {},
   "outputs": [],
   "source": [
    "data = pd.read_csv(\"Sounds_1_seconds/mfcc_1_sec/boxplot_combined_mfcc_features.csv\")\n",
    "# data = data.drop(columns=['Encoded_label'])\n",
    "grouped_data = data.groupby('Encoded_label')"
   ]
  },
  {
   "cell_type": "code",
   "execution_count": null,
   "metadata": {},
   "outputs": [],
   "source": [
    "def calculate_statistics(group):\n",
    "    return pd.DataFrame({\n",
    "        'Mediana': group.median(),\n",
    "        'Kwartyl rzędu 1/4': group.quantile(0.25),\n",
    "        'Kwartyl rzędu 3/4': group.quantile(0.75),\n",
    "        'Rozstęp międzykwartylowy': group.quantile(0.75) - group.quantile(0.25),\n",
    "        'Rozstęp': group.max() - group.min(),\n",
    "        'Odchylenie standardowe': group.std(),\n",
    "        'Wariancja': group.var(),\n",
    "        'Kurtoza': group.kurt(),\n",
    "        'Współczynnik skośności': group.skew(),\n",
    "        'Współczynnik zmienności': group.std() / group.mean(),\n",
    "        'Średnia arytmetyczna': group.mean(),\n",
    "        'Minimum': group.min(),\n",
    "        'Maksimum': group.max()\n",
    "    })\n"
   ]
  },
  {
   "cell_type": "code",
   "execution_count": 11,
   "metadata": {},
   "outputs": [
    {
     "name": "stderr",
     "output_type": "stream",
     "text": [
      "C:\\Users\\Agata\\AppData\\Local\\Temp\\ipykernel_18328\\4028089305.py:1: DeprecationWarning: DataFrameGroupBy.apply operated on the grouping columns. This behavior is deprecated, and in a future version of pandas the grouping columns will be excluded from the operation. Either pass `include_groups=False` to exclude the groupings or explicitly select the grouping columns after groupby to silence this warning.\n",
      "  stats_data = grouped_data.apply(lambda x: calculate_statistics(x.drop(columns=['label'], axis=1)))\n"
     ]
    }
   ],
   "source": [
    "stats_data = grouped_data.apply(lambda x: calculate_statistics(x.drop(columns=['label'], axis=1)))\n",
    "stats_output_file = \"statistics_mfcc_features.xlsx\"\n",
    "stats_data.to_excel(stats_output_file, sheet_name=\"Statistics\")"
   ]
  },
  {
   "cell_type": "code",
   "execution_count": null,
   "metadata": {},
   "outputs": [],
   "source": [
    "file_path = \"Sounds_1_seconds/mfcc_1_sec/boxplot_combined_mfcc_features.csv\"\n",
    "data = pd.read_csv(file_path)\n",
    "\n",
    "label_mapping = {\n",
    "    '0': 'Bęben',\n",
    "    '1': 'Gitara',\n",
    "    '2': 'Fortepian',\n",
    "    '3': 'Skrzypce'\n",
    "}\n",
    "\n",
    "\n",
    "data['Encoded_label'] = data['Encoded_label'].astype(str).map(label_mapping)\n",
    "\n",
    "output_folder = \"statistical_visualization\"\n",
    "os.makedirs(output_folder, exist_ok=True)\n",
    "\n",
    "for col in data.columns[:-1]:  \n",
    "    plt.figure(figsize=(10, 5))\n",
    "    sns.boxplot(x='Encoded_label', y=col, data=data, color=\"lightblue\", width=0.6)\n",
    "    plt.title(f\"Wykres pudełkowy dla $\\\\mathrm{{MFCC_{{{col}}}}}$\", fontsize=14)\n",
    "    plt.xlabel(\"Instrument\", fontsize=12)\n",
    "    plt.ylabel(\"Wartość\", fontsize=12)\n",
    "    sns.set_style(\"whitegrid\")\n",
    "    sns.set_palette(\"pastel\")\n",
    "    plt.xticks(fontsize=10)\n",
    "    plt.yticks(fontsize=10)\n",
    "    plt.grid(axis='y', linestyle='--', alpha=0.7)\n",
    "    plt.tight_layout()\n",
    "\n",
    "    plt.savefig(os.path.join(output_folder, f\"boxplot_{col}.png\"), dpi=300, bbox_inches=\"tight\")\n",
    "    plt.close()"
   ]
  }
 ],
 "metadata": {
  "kernelspec": {
   "display_name": "Python 3",
   "language": "python",
   "name": "python3"
  },
  "language_info": {
   "codemirror_mode": {
    "name": "ipython",
    "version": 3
   },
   "file_extension": ".py",
   "mimetype": "text/x-python",
   "name": "python",
   "nbconvert_exporter": "python",
   "pygments_lexer": "ipython3",
   "version": "3.12.2"
  }
 },
 "nbformat": 4,
 "nbformat_minor": 2
}
