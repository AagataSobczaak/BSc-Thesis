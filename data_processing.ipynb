{
 "cells": [
  {
   "cell_type": "code",
   "execution_count": 1,
   "metadata": {},
   "outputs": [
    {
     "name": "stderr",
     "output_type": "stream",
     "text": [
      "c:\\Users\\Agata\\AppData\\Local\\Programs\\Python\\Python312\\Lib\\site-packages\\pydub\\utils.py:170: RuntimeWarning: Couldn't find ffmpeg or avconv - defaulting to ffmpeg, but may not work\n",
      "  warn(\"Couldn't find ffmpeg or avconv - defaulting to ffmpeg, but may not work\", RuntimeWarning)\n"
     ]
    }
   ],
   "source": [
    "import os\n",
    "import shutil\n",
    "from pydub import AudioSegment\n",
    "import random\n",
    "import pandas as pd "
   ]
  },
  {
   "cell_type": "code",
   "execution_count": null,
   "metadata": {},
   "outputs": [],
   "source": [
    "csv_path = 'Sounds/dataset/Metadata_Train.csv'\n",
    "audio_base_path = 'Sounds/dataset/Train_submission'  \n",
    "output_base_path = 'Sounds/train' \n",
    "\n",
    "df = pd.read_csv(csv_path)\n",
    "\n",
    "for _, row in df.iterrows():\n",
    "    audio_file = row['FileName'] \n",
    "    audio_class = row['Class']  \n",
    "    \n",
    "    class_dir = os.path.join(output_base_path, str(audio_class))\n",
    "    os.makedirs(class_dir, exist_ok=True)\n",
    "    \n",
    "    source_path = os.path.join(audio_base_path, audio_file)\n",
    "    destination_path = os.path.join(class_dir, audio_file)\n",
    "    \n",
    "    if os.path.exists(source_path):\n",
    "        shutil.move(source_path, destination_path)\n",
    "        print(f\"Moved {audio_file} to {class_dir}\")\n",
    "    else:\n",
    "        print(f\"File {audio_file} not found in {audio_base_path}\")"
   ]
  },
  {
   "cell_type": "code",
   "execution_count": null,
   "metadata": {},
   "outputs": [],
   "source": [
    "audio_base_path = 'Sounds/train/Sound_Drum' \n",
    "\n",
    "shortest_audio = None\n",
    "shortest_duration = float('inf')\n",
    "\n",
    "for audio_file in os.listdir(audio_base_path):\n",
    "\n",
    "    if audio_file.endswith('.wav'):\n",
    "        file_path = os.path.join(audio_base_path, audio_file)\n",
    "        audio = AudioSegment.from_file(file_path)\n",
    "        duration = len(audio)\n",
    "        \n",
    "        if duration < shortest_duration:\n",
    "            shortest_duration = duration\n",
    "            shortest_audio = audio_file\n",
    "\n",
    "\n",
    "shortest_duration_seconds = shortest_duration / 1000  \n",
    "\n",
    "print(f\"The shortest audio file is: {shortest_audio}\")\n",
    "print(f\"It lasts: {shortest_duration_seconds:.2f} seconds\")\n"
   ]
  },
  {
   "cell_type": "code",
   "execution_count": null,
   "metadata": {},
   "outputs": [],
   "source": [
    "def create_segments(audio_base_path, output_base_path, segment_duration):\n",
    " \n",
    "    os.makedirs(output_base_path, exist_ok=True)\n",
    "\n",
    "    for audio_file in os.listdir(audio_base_path):\n",
    "        if audio_file.endswith('.wav'):\n",
    "            file_path = os.path.join(audio_base_path, audio_file)\n",
    "            \n",
    "            audio = AudioSegment.from_file(file_path)\n",
    "            \n",
    "            if len(audio) == segment_duration:\n",
    "                print(f\"File {audio_file} is already {segment_duration / 1000} seconds long. Skipping segmentation.\")\n",
    "                continue\n",
    "\n",
    "            if len(audio) < segment_duration:\n",
    "                print(f\"Skipping {audio_file} as it is shorter than {segment_duration / 1000} seconds.\")\n",
    "                continue\n",
    "            \n",
    "            total_segments = len(audio) // segment_duration\n",
    "            audio_name = os.path.splitext(audio_file)[0]\n",
    "\n",
    "            for i in range(total_segments):\n",
    "                start_time = i * segment_duration\n",
    "                end_time = start_time + segment_duration\n",
    "                segment = audio[start_time:end_time]\n",
    "                \n",
    "                segment_filename = f\"{audio_name}_segment_{i+1}.wav\"\n",
    "                segment_path = os.path.join(output_base_path, segment_filename)\n",
    "                \n",
    "                segment.export(segment_path, format=\"wav\")\n",
    "\n",
    "def delete_short_segments(directory_path, min_duration):\n",
    "\n",
    "    for audio_file in os.listdir(directory_path):\n",
    "        if audio_file.endswith('.wav'):\n",
    "            file_path = os.path.join(directory_path, audio_file)\n",
    "            audio = AudioSegment.from_file(file_path)\n",
    "            \n",
    "            if len(audio) < min_duration:\n",
    "                os.remove(file_path)\n",
    "\n",
    "\n",
    "def delete_silent_segments(base_folder,silence_threshold):\n",
    "\n",
    "    for root, dirs, files in os.walk(base_folder):\n",
    "        for file in files:\n",
    "        \n",
    "            if file.endswith('.wav'):\n",
    "                file_path = os.path.join(root, file)\n",
    "                \n",
    "                segment = AudioSegment.from_file(file_path)\n",
    "                loudness = segment.dBFS\n",
    "                # print(f\"{file_path}: {loudness:.2f} dBFS\")\n",
    "\n",
    "                if loudness < silence_threshold:\n",
    "                    os.remove(file_path)\n",
    "\n",
    "\n",
    "def count_files_in_folders(folders):\n",
    "\n",
    "    for folder in folders:\n",
    "        try:\n",
    "            files = [f for f in os.listdir(folder) if os.path.isfile(os.path.join(folder, f))]\n",
    "            file_count = len(files)\n",
    "            print(f\"{folder}: {file_count} files\")\n",
    "        except FileNotFoundError:\n",
    "            print(f\"{folder}: Folder not found\")\n",
    "\n",
    "\n",
    "def move_files_between_folders(train_folder, test_folder, dataset_folder, instrument_folders):\n",
    "\n",
    "    if not os.path.exists(dataset_folder):\n",
    "        os.makedirs(dataset_folder)\n",
    "\n",
    "    for subfolder in instrument_folders:\n",
    "        train_subfolder = os.path.join(train_folder, subfolder)\n",
    "        test_subfolder = os.path.join(test_folder, subfolder)\n",
    "        dataset_subfolder = os.path.join(dataset_folder, subfolder)\n",
    "\n",
    "        if not os.path.exists(dataset_subfolder):\n",
    "            os.makedirs(dataset_subfolder)\n",
    "\n",
    "        if os.path.exists(train_subfolder):\n",
    "            for file_name in os.listdir(train_subfolder):\n",
    "                if file_name.endswith(\".wav\"):\n",
    "                    source_file = os.path.join(train_subfolder, file_name)\n",
    "                    dest_file = os.path.join(dataset_subfolder, file_name)\n",
    "                    shutil.move(source_file, dest_file)\n",
    "                else:\n",
    "                    print(f\"Skipped {file_name} (not a .wav file)\")\n",
    "        else:\n",
    "            print(f\"Train subfolder {train_subfolder} does not exist\")\n",
    "\n",
    "        if os.path.exists(test_subfolder):\n",
    "            for file_name in os.listdir(test_subfolder):\n",
    "                if file_name.endswith(\".wav\"):\n",
    "                    source_file = os.path.join(test_subfolder, file_name)\n",
    "                    dest_file = os.path.join(dataset_subfolder, file_name)\n",
    "                    shutil.move(source_file, dest_file)\n",
    "                else:\n",
    "                    print(f\"Skipped {file_name} (not a .wav file)\")\n",
    "        else:\n",
    "            print(f\"Test subfolder {test_subfolder} does not exist\")\n",
    "\n",
    "\n",
    "def limit_files_in_folder(folder_path, limit):\n",
    "\n",
    "    files = [f for f in os.listdir(folder_path) if os.path.isfile(os.path.join(folder_path, f))]\n",
    "    if len(files) > limit:\n",
    "        \n",
    "        files_to_keep = set(random.sample(files, limit))\n",
    "        for file in files:\n",
    "            \n",
    "            if file not in files_to_keep:\n",
    "                os.remove(os.path.join(folder_path, file))\n",
    "        print(f\"Reduced '{folder_path}' to {limit} files.\")\n",
    "    else:\n",
    "        print(f\"'{folder_path}' already has {len(files)} files, which is within the limit.\")\n",
    "\n",
    "def split_files_into_train_and_test(source_folder, train_folder, test_folder, train_percentage=0.8):\n",
    "\n",
    "    \n",
    "    os.makedirs(train_folder, exist_ok=True)\n",
    "    os.makedirs(test_folder, exist_ok=True)\n",
    "\n",
    "    for instrument_folder in os.listdir(source_folder):\n",
    "        instrument_path = os.path.join(source_folder, instrument_folder)\n",
    "        \n",
    "        if not os.path.isdir(instrument_path):\n",
    "            continue\n",
    "\n",
    "        train_instrument_path = os.path.join(train_folder, instrument_folder)\n",
    "        test_instrument_path = os.path.join(test_folder, instrument_folder)\n",
    "        os.makedirs(train_instrument_path, exist_ok=True)\n",
    "        os.makedirs(test_instrument_path, exist_ok=True)\n",
    "\n",
    "        files = [f for f in os.listdir(instrument_path) if os.path.isfile(os.path.join(instrument_path, f))]\n",
    "        total_files = len(files)\n",
    "\n",
    "        num_train_files = int(total_files * train_percentage)\n",
    "        train_files = random.sample(files, num_train_files)\n",
    "        test_files = [f for f in files if f not in train_files]\n",
    "\n",
    "        for file_name in train_files:\n",
    "            source_file = os.path.join(instrument_path, file_name)\n",
    "            destination_file = os.path.join(train_instrument_path, file_name)\n",
    "            shutil.move(source_file, destination_file)\n",
    "            # print(f\"Moved {file_name} to {train_instrument_path}\")\n",
    "\n",
    "        for file_name in test_files:\n",
    "            source_file = os.path.join(instrument_path, file_name)\n",
    "            destination_file = os.path.join(test_instrument_path, file_name)\n",
    "            shutil.move(source_file, destination_file)\n",
    "            # print(f\"Moved {file_name} to {test_instrument_path}\")\n"
   ]
  },
  {
   "cell_type": "markdown",
   "metadata": {},
   "source": [
    "# 1 sekundowe pliki"
   ]
  },
  {
   "cell_type": "code",
   "execution_count": null,
   "metadata": {},
   "outputs": [],
   "source": [
    "audio_base_path = 'Sounds/train/Sound_Drum'\n",
    "output_base_path = 'Sounds_1_seconds/train/Drum'\n",
    "\n",
    "create_segments(audio_base_path, output_base_path, 1000)\n",
    "delete_short_segments(output_base_path, 1000)"
   ]
  },
  {
   "cell_type": "code",
   "execution_count": null,
   "metadata": {},
   "outputs": [],
   "source": [
    "base_folder = 'Sounds_1_seconds'\n",
    "silence_threshold = -60.0\n",
    "delete_silent_segments(base_folder,silence_threshold)"
   ]
  },
  {
   "cell_type": "code",
   "execution_count": null,
   "metadata": {},
   "outputs": [],
   "source": [
    "sec1_folders = [\n",
    "    \"Sounds_1_seconds/test/Drum\",\n",
    "    \"Sounds_1_seconds/test/Guitar\",\n",
    "    \"Sounds_1_seconds/test/Piano\",\n",
    "    \"Sounds_1_seconds/test/Violin\",\n",
    "\n",
    "    \"Sounds_1_seconds/train/Drum\",\n",
    "    \"Sounds_1_seconds/train/Guitar\",\n",
    "    \"Sounds_1_seconds/train/Piano\",\n",
    "    \"Sounds_1_seconds/train/Violin\"\n",
    "]\n",
    "\n",
    "count_files_in_folders(sec1_folders)"
   ]
  },
  {
   "cell_type": "code",
   "execution_count": null,
   "metadata": {},
   "outputs": [],
   "source": [
    "train_folder = \"Sounds_1_seconds/train\"\n",
    "test_folder = \"Sounds_1_seconds/test\"\n",
    "dataset_folder = \"Sounds_1_seconds/sum\"\n",
    "instrument_folders = [\"Drum\", \"Guitar\", \"Piano\", \"Violin\"]\n",
    "\n",
    "move_files_between_folders(train_folder, test_folder, dataset_folder, instrument_folders)"
   ]
  },
  {
   "cell_type": "code",
   "execution_count": null,
   "metadata": {},
   "outputs": [],
   "source": [
    "sec1_folders = [\n",
    "    \"Sounds_1_seconds/sum/Drum\",\n",
    "    \"Sounds_1_seconds/sum/Guitar\",\n",
    "    \"Sounds_1_seconds/sum/Piano\",\n",
    "    \"Sounds_1_seconds/sum/Violin\"\n",
    "]\n",
    "\n",
    "for folder in sec1_folders:\n",
    "    limit_files_in_folder(folder, 8300)"
   ]
  },
  {
   "cell_type": "code",
   "execution_count": null,
   "metadata": {},
   "outputs": [],
   "source": [
    "source_folder = \"Sounds_1_seconds/sum\"\n",
    "train_folder = \"Sounds_1_seconds/train\"\n",
    "test_folder = \"Sounds_1_seconds/test\"\n",
    "\n",
    "split_files_into_train_and_test(source_folder, train_folder, test_folder, train_percentage=0.8)"
   ]
  },
  {
   "cell_type": "markdown",
   "metadata": {},
   "source": [
    "# 3 sekundowe pliki"
   ]
  },
  {
   "cell_type": "code",
   "execution_count": 12,
   "metadata": {},
   "outputs": [],
   "source": [
    "audio_base_path = 'Sounds/test/Sound_Violin'\n",
    "output_base_path = 'Sounds_3_seconds/test/Violin'\n",
    "\n",
    "create_segments(audio_base_path, output_base_path, 3000)\n",
    "delete_short_segments(output_base_path, 3000)"
   ]
  },
  {
   "cell_type": "code",
   "execution_count": 13,
   "metadata": {},
   "outputs": [],
   "source": [
    "base_folder = 'Sounds_3_seconds'\n",
    "silence_threshold = -60.0\n",
    "delete_silent_segments(base_folder,silence_threshold)"
   ]
  },
  {
   "cell_type": "code",
   "execution_count": 14,
   "metadata": {},
   "outputs": [
    {
     "name": "stdout",
     "output_type": "stream",
     "text": [
      "Sounds_3_seconds/test/Drum: 134 files\n",
      "Sounds_3_seconds/test/Guitar: 246 files\n",
      "Sounds_3_seconds/test/Piano: 174 files\n",
      "Sounds_3_seconds/test/Violin: 40 files\n",
      "Sounds_3_seconds/train/Drum: 2832 files\n",
      "Sounds_3_seconds/train/Guitar: 2869 files\n",
      "Sounds_3_seconds/train/Piano: 5376 files\n",
      "Sounds_3_seconds/train/Violin: 5526 files\n"
     ]
    }
   ],
   "source": [
    "sec3_folders = [\n",
    "    \"Sounds_3_seconds/test/Drum\",\n",
    "    \"Sounds_3_seconds/test/Guitar\",\n",
    "    \"Sounds_3_seconds/test/Piano\",\n",
    "    \"Sounds_3_seconds/test/Violin\",\n",
    "\n",
    "    \"Sounds_3_seconds/train/Drum\",\n",
    "    \"Sounds_3_seconds/train/Guitar\",\n",
    "    \"Sounds_3_seconds/train/Piano\",\n",
    "    \"Sounds_3_seconds/train/Violin\"\n",
    "]\n",
    "\n",
    "count_files_in_folders(sec3_folders)"
   ]
  },
  {
   "cell_type": "code",
   "execution_count": 15,
   "metadata": {},
   "outputs": [],
   "source": [
    "train_folder = \"Sounds_3_seconds/train\"\n",
    "test_folder = \"Sounds_3_seconds/test\"\n",
    "dataset_folder = \"Sounds_3_seconds/sum\"\n",
    "instrument_folders = [\"Drum\", \"Guitar\", \"Piano\", \"Violin\"]\n",
    "\n",
    "move_files_between_folders(train_folder, test_folder, dataset_folder, instrument_folders)"
   ]
  },
  {
   "cell_type": "code",
   "execution_count": 16,
   "metadata": {},
   "outputs": [
    {
     "name": "stdout",
     "output_type": "stream",
     "text": [
      "Reduced 'Sounds_3_seconds/sum/Drum' to 2900 files.\n",
      "Reduced 'Sounds_3_seconds/sum/Guitar' to 2900 files.\n",
      "Reduced 'Sounds_3_seconds/sum/Piano' to 2900 files.\n",
      "Reduced 'Sounds_3_seconds/sum/Violin' to 2900 files.\n"
     ]
    }
   ],
   "source": [
    "# Drum - 2966 / Violin - 5566 / Piano - 5550 / Guitar - 3115\n",
    "\n",
    "sec3_folders = [\n",
    "    \"Sounds_3_seconds/sum/Drum\",\n",
    "    \"Sounds_3_seconds/sum/Guitar\",\n",
    "    \"Sounds_3_seconds/sum/Piano\",\n",
    "    \"Sounds_3_seconds/sum/Violin\"\n",
    "]\n",
    "\n",
    "for folder in sec3_folders:\n",
    "    limit_files_in_folder(folder, 2900)"
   ]
  },
  {
   "cell_type": "code",
   "execution_count": 17,
   "metadata": {},
   "outputs": [],
   "source": [
    "source_folder = \"Sounds_3_seconds/sum\"\n",
    "train_folder = \"Sounds_3_seconds/train\"\n",
    "test_folder = \"Sounds_3_seconds/test\"\n",
    "\n",
    "split_files_into_train_and_test(source_folder, train_folder, test_folder, train_percentage = 0.8)"
   ]
  },
  {
   "cell_type": "code",
   "execution_count": 31,
   "metadata": {},
   "outputs": [
    {
     "name": "stdout",
     "output_type": "stream",
     "text": [
      "Sounds_3_seconds/test/Drum: 580 files\n",
      "Sounds_3_seconds/test/Guitar: 580 files\n",
      "Sounds_3_seconds/test/Piano: 580 files\n",
      "Sounds_3_seconds/test/Violin: 580 files\n",
      "Sounds_3_seconds/train/Drum: 2320 files\n",
      "Sounds_3_seconds/train/Guitar: 2320 files\n",
      "Sounds_3_seconds/train/Piano: 2320 files\n",
      "Sounds_3_seconds/train/Violin: 2320 files\n"
     ]
    }
   ],
   "source": [
    "sec3_folders = [\n",
    "    \"Sounds_3_seconds/test/Drum\",\n",
    "    \"Sounds_3_seconds/test/Guitar\",\n",
    "    \"Sounds_3_seconds/test/Piano\",\n",
    "    \"Sounds_3_seconds/test/Violin\",\n",
    "\n",
    "    \"Sounds_3_seconds/train/Drum\",\n",
    "    \"Sounds_3_seconds/train/Guitar\",\n",
    "    \"Sounds_3_seconds/train/Piano\",\n",
    "    \"Sounds_3_seconds/train/Violin\"\n",
    "]\n",
    "\n",
    "count_files_in_folders(sec3_folders)"
   ]
  },
  {
   "cell_type": "markdown",
   "metadata": {},
   "source": [
    "# 5 sekundowe pliki"
   ]
  },
  {
   "cell_type": "code",
   "execution_count": 25,
   "metadata": {},
   "outputs": [
    {
     "name": "stdout",
     "output_type": "stream",
     "text": [
      "Skipping 14_ray-chen_bwv1004_mov5.wav as it is shorter than 5.0 seconds.\n",
      "Skipping VIOLIN_SOUND (144).wav as it is shorter than 5.0 seconds.\n"
     ]
    }
   ],
   "source": [
    "audio_base_path = 'Sounds/train/Sound_Violin'\n",
    "output_base_path = 'Sounds_5_seconds/train/Violin'\n",
    "\n",
    "create_segments(audio_base_path, output_base_path, 5000)\n",
    "delete_short_segments(output_base_path, 5000)"
   ]
  },
  {
   "cell_type": "code",
   "execution_count": 26,
   "metadata": {},
   "outputs": [],
   "source": [
    "base_folder = 'Sounds_5_seconds'\n",
    "silence_threshold = -60.0\n",
    "delete_silent_segments(base_folder,silence_threshold)"
   ]
  },
  {
   "cell_type": "code",
   "execution_count": null,
   "metadata": {},
   "outputs": [
    {
     "name": "stdout",
     "output_type": "stream",
     "text": [
      "5_seconds_sounds/test/Drum: 77 files\n",
      "5_seconds_sounds/test/Guitar: 145 files\n",
      "5_seconds_sounds/test/Piano: 100 files\n",
      "5_seconds_sounds/test/Violin: 21 files\n",
      "5_seconds_sounds/train/Drum: 1562 files\n",
      "5_seconds_sounds/train/Guitar: 1668 files\n",
      "5_seconds_sounds/train/Piano: 3188 files\n",
      "5_seconds_sounds/train/Violin: 3224 files\n"
     ]
    }
   ],
   "source": [
    "sec5_folders = [\n",
    "    \"Sounds_5_seconds/test/Drum\",\n",
    "    \"Sounds_5_seconds/test/Guitar\",\n",
    "    \"Sounds_5_seconds/test/Piano\",\n",
    "    \"Sounds_5_seconds/test/Violin\",\n",
    "\n",
    "    \"Sounds_5_seconds/train/Drum\",\n",
    "    \"Sounds_5_seconds/train/Guitar\",\n",
    "    \"Sounds_5_seconds/train/Piano\",\n",
    "    \"Sounds_5_seconds/train/Violin\"\n",
    "]\n",
    "\n",
    "count_files_in_folders(sec5_folders)"
   ]
  },
  {
   "cell_type": "code",
   "execution_count": 27,
   "metadata": {},
   "outputs": [],
   "source": [
    "train_folder = \"Sounds_5_seconds/train\"\n",
    "test_folder = \"Sounds_5_seconds/test\"\n",
    "dataset_folder = \"Sounds_5_seconds/sum\"\n",
    "instrument_folders = [\"Drum\", \"Guitar\", \"Piano\", \"Violin\"]\n",
    "\n",
    "move_files_between_folders(train_folder, test_folder, dataset_folder, instrument_folders)"
   ]
  },
  {
   "cell_type": "code",
   "execution_count": 28,
   "metadata": {},
   "outputs": [
    {
     "name": "stdout",
     "output_type": "stream",
     "text": [
      "Reduced 'Sounds_5_seconds/sum/Drum' to 1600 files.\n",
      "Reduced 'Sounds_5_seconds/sum/Guitar' to 1600 files.\n",
      "Reduced 'Sounds_5_seconds/sum/Piano' to 1600 files.\n",
      "Reduced 'Sounds_5_seconds/sum/Violin' to 1600 files.\n"
     ]
    }
   ],
   "source": [
    "# Drum - 1639 / Violin - 3245 / Piano - 3288 / Guitar - 1813\n",
    "\n",
    "sec5_folders = [\n",
    "    \"Sounds_5_seconds/sum/Drum\",\n",
    "    \"Sounds_5_seconds/sum/Guitar\",\n",
    "    \"Sounds_5_seconds/sum/Piano\",\n",
    "    \"Sounds_5_seconds/sum/Violin\"\n",
    "]\n",
    "\n",
    "for folder in sec5_folders:\n",
    "    limit_files_in_folder(folder, 1600)"
   ]
  },
  {
   "cell_type": "code",
   "execution_count": 29,
   "metadata": {},
   "outputs": [],
   "source": [
    "source_folder = \"Sounds_5_seconds/sum\"\n",
    "train_folder = \"Sounds_5_seconds/train\"\n",
    "test_folder = \"Sounds_5_seconds/test\"\n",
    "\n",
    "split_files_into_train_and_test(source_folder, train_folder, test_folder, train_percentage = 0.8)"
   ]
  },
  {
   "cell_type": "code",
   "execution_count": 30,
   "metadata": {},
   "outputs": [
    {
     "name": "stdout",
     "output_type": "stream",
     "text": [
      "Sounds_5_seconds/test/Drum: 320 files\n",
      "Sounds_5_seconds/test/Guitar: 320 files\n",
      "Sounds_5_seconds/test/Piano: 320 files\n",
      "Sounds_5_seconds/test/Violin: 320 files\n",
      "Sounds_5_seconds/train/Drum: 1280 files\n",
      "Sounds_5_seconds/train/Guitar: 1280 files\n",
      "Sounds_5_seconds/train/Piano: 1280 files\n",
      "Sounds_5_seconds/train/Violin: 1280 files\n"
     ]
    }
   ],
   "source": [
    "sec5_folders = [\n",
    "    \"Sounds_5_seconds/test/Drum\",\n",
    "    \"Sounds_5_seconds/test/Guitar\",\n",
    "    \"Sounds_5_seconds/test/Piano\",\n",
    "    \"Sounds_5_seconds/test/Violin\",\n",
    "\n",
    "    \"Sounds_5_seconds/train/Drum\",\n",
    "    \"Sounds_5_seconds/train/Guitar\",\n",
    "    \"Sounds_5_seconds/train/Piano\",\n",
    "    \"Sounds_5_seconds/train/Violin\"\n",
    "]\n",
    "\n",
    "count_files_in_folders(sec5_folders)"
   ]
  }
 ],
 "metadata": {
  "kernelspec": {
   "display_name": "Python 3",
   "language": "python",
   "name": "python3"
  },
  "language_info": {
   "codemirror_mode": {
    "name": "ipython",
    "version": 3
   },
   "file_extension": ".py",
   "mimetype": "text/x-python",
   "name": "python",
   "nbconvert_exporter": "python",
   "pygments_lexer": "ipython3",
   "version": "3.12.2"
  }
 },
 "nbformat": 4,
 "nbformat_minor": 2
}
