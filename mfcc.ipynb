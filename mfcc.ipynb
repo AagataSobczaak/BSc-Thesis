{
 "cells": [
  {
   "cell_type": "code",
   "execution_count": 2,
   "metadata": {},
   "outputs": [],
   "source": [
    "import os\n",
    "import librosa\n",
    "import numpy as np\n",
    "import pandas as pd\n",
    "import librosa.display\n",
    "from sklearn.preprocessing import LabelEncoder"
   ]
  },
  {
   "cell_type": "code",
   "execution_count": 3,
   "metadata": {},
   "outputs": [],
   "source": [
    "def extract_mfcc_features(folder, output_csv, n_mfcc = 13, sampling_rate=22050):\n",
    "\n",
    "    features = []\n",
    "    labels = []\n",
    "\n",
    "    for root, dirs, files in os.walk(folder):\n",
    "        for file in files:\n",
    "            if file.endswith('.wav'):\n",
    "                file_path = os.path.join(root, file)\n",
    "                label = os.path.basename(os.path.dirname(file_path))  \n",
    "                audio, sr = librosa.load(file_path, sr=sampling_rate)\n",
    "                mfccs = librosa.feature.mfcc(y=audio, sr=sr, n_mfcc=n_mfcc)\n",
    "                mfcc_mean = np.mean(mfccs, axis=1)  \n",
    "                features.append(mfcc_mean)\n",
    "                labels.append(label)\n",
    "\n",
    "    data = pd.DataFrame(features)\n",
    "    data['label'] = labels\n",
    "    data.to_csv(output_csv, index=False)\n",
    "\n",
    "def shuffle_csv_and_save_in_place(input_csv):\n",
    "    \n",
    "    df = pd.read_csv(input_csv)\n",
    "    df_shuffled = df.sample(frac=1).reset_index(drop=True)\n",
    "    df_shuffled.to_csv(input_csv, index=False)\n",
    "\n",
    "def encode_labels_and_save_in_place(input_csv):\n",
    "\n",
    "    df = pd.read_csv(input_csv)\n",
    "    le = LabelEncoder()\n",
    "    \n",
    "    df['Encoded_label'] = le.fit_transform(df['label'])\n",
    "    df.to_csv(input_csv, index=False)\n",
    "\n",
    "def delete_label(input_csv):\n",
    "\n",
    "    df = pd.read_csv(input_csv)\n",
    "    df = df.drop(columns='label')\n",
    "    df.to_csv(input_csv, index=False)\n"
   ]
  },
  {
   "cell_type": "markdown",
   "metadata": {},
   "source": [
    "# 1 sekundowe pliki"
   ]
  },
  {
   "cell_type": "markdown",
   "metadata": {},
   "source": [
    "## 13 cech"
   ]
  },
  {
   "cell_type": "code",
   "execution_count": 6,
   "metadata": {},
   "outputs": [],
   "source": [
    "folder = \"Sounds_1_seconds/train\"\n",
    "output_csv = \"Sounds_1_seconds/mfcc_1_sec/train_13_mfcc_features_with_labels_1sec.csv\"\n",
    "n_mfcc = 13\n",
    "\n",
    "extract_mfcc_features(folder, output_csv, n_mfcc=n_mfcc, sampling_rate=22050)"
   ]
  },
  {
   "cell_type": "code",
   "execution_count": 8,
   "metadata": {},
   "outputs": [],
   "source": [
    "input_csv = \"Sounds_1_seconds/mfcc_1_sec/test_13_mfcc_features_with_labels_1sec.csv\"\n",
    "\n",
    "shuffle_csv_and_save_in_place(input_csv)\n",
    "encode_labels_and_save_in_place(input_csv)"
   ]
  },
  {
   "cell_type": "code",
   "execution_count": 10,
   "metadata": {},
   "outputs": [],
   "source": [
    "input_csv = \"Sounds_1_seconds/mfcc_1_sec/train_13_mfcc_features_with_labels_1sec.csv\"\n",
    "delete_label(input_csv)"
   ]
  },
  {
   "cell_type": "markdown",
   "metadata": {},
   "source": [
    "## 30 cech"
   ]
  },
  {
   "cell_type": "code",
   "execution_count": 11,
   "metadata": {},
   "outputs": [],
   "source": [
    "folder = \"Sounds_1_seconds/train\"\n",
    "output_csv = \"Sounds_1_seconds/mfcc_1_sec/train_30_mfcc_features_with_labels_1sec.csv\"\n",
    "n_mfcc = 30\n",
    "\n",
    "extract_mfcc_features(folder, output_csv, n_mfcc=n_mfcc, sampling_rate=22050)"
   ]
  },
  {
   "cell_type": "code",
   "execution_count": 12,
   "metadata": {},
   "outputs": [],
   "source": [
    "input_csv = \"Sounds_1_seconds/mfcc_1_sec/train_30_mfcc_features_with_labels_1sec.csv\"\n",
    "shuffle_csv_and_save_in_place(input_csv)\n",
    "encode_labels_and_save_in_place(input_csv)"
   ]
  },
  {
   "cell_type": "code",
   "execution_count": 6,
   "metadata": {},
   "outputs": [],
   "source": [
    "input_csv = \"Sounds_1_seconds/mfcc_1_sec/train_30_mfcc_features_with_labels_1sec.csv\"\n",
    "delete_label(input_csv)"
   ]
  },
  {
   "cell_type": "markdown",
   "metadata": {},
   "source": [
    "## 50 cech"
   ]
  },
  {
   "cell_type": "code",
   "execution_count": 15,
   "metadata": {},
   "outputs": [],
   "source": [
    "folder = \"Sounds_1_seconds/test\"\n",
    "output_csv = \"Sounds_1_seconds/mfcc_1_sec/test_50_mfcc_features_with_labels_1sec.csv\"\n",
    "n_mfcc = 50\n",
    "\n",
    "extract_mfcc_features(folder, output_csv, n_mfcc=n_mfcc, sampling_rate=22050)"
   ]
  },
  {
   "cell_type": "code",
   "execution_count": 16,
   "metadata": {},
   "outputs": [],
   "source": [
    "input_csv = \"Sounds_1_seconds/mfcc_1_sec/test_50_mfcc_features_with_labels_1sec.csv\"\n",
    "shuffle_csv_and_save_in_place(input_csv)\n",
    "encode_labels_and_save_in_place(input_csv)"
   ]
  },
  {
   "cell_type": "code",
   "execution_count": 7,
   "metadata": {},
   "outputs": [],
   "source": [
    "input_csv = \"Sounds_1_seconds/mfcc_1_sec/train_50_mfcc_features_with_labels_1sec.csv\"\n",
    "delete_label(input_csv)"
   ]
  },
  {
   "cell_type": "markdown",
   "metadata": {},
   "source": [
    "# 3 sekundowe pliki"
   ]
  },
  {
   "cell_type": "code",
   "execution_count": null,
   "metadata": {},
   "outputs": [],
   "source": [
    "folder = \"Sounds_3_seconds/train\"\n",
    "output_csv = \"Sounds_3_seconds/mfcc_3_sec/train_13_mfcc_features_with_labels_3sec.csv\"\n",
    "n_mfcc = 13\n",
    "\n",
    "extract_mfcc_features(folder, output_csv, n_mfcc=n_mfcc, sampling_rate=22050)\n"
   ]
  },
  {
   "cell_type": "code",
   "execution_count": 24,
   "metadata": {},
   "outputs": [],
   "source": [
    "input_csv = \"Sounds_3_seconds/mfcc_3_sec/train_13_mfcc_features_with_labels_3sec.csv\"\n",
    "shuffle_csv_and_save_in_place(input_csv)\n",
    "encode_labels_and_save_in_place(input_csv)"
   ]
  },
  {
   "cell_type": "code",
   "execution_count": 5,
   "metadata": {},
   "outputs": [],
   "source": [
    "input_csv = \"Sounds_3_seconds/mfcc_3_sec/test_13_mfcc_features_with_labels_3sec.csv\"\n",
    "delete_label(input_csv)"
   ]
  },
  {
   "cell_type": "markdown",
   "metadata": {},
   "source": [
    "# 5 sekundowe pliki"
   ]
  },
  {
   "cell_type": "code",
   "execution_count": null,
   "metadata": {},
   "outputs": [],
   "source": [
    "folder = \"Sounds_5_seconds/test\"\n",
    "input_csv, output_csv = \"Sounds_5_seconds/mfcc_5_sec/test_13_mfcc_features_with_labels_5sec.csv\"\n",
    "n_mfcc = 13\n",
    "\n",
    "extract_mfcc_features(folder, output_csv, n_mfcc=n_mfcc, sampling_rate=22050)\n"
   ]
  },
  {
   "cell_type": "code",
   "execution_count": 26,
   "metadata": {},
   "outputs": [],
   "source": [
    "input_csv = \"Sounds_5_seconds/mfcc_5_sec/train_13_mfcc_features_with_labels_5sec.csv\"\n",
    "shuffle_csv_and_save_in_place(input_csv)\n",
    "encode_labels_and_save_in_place(input_csv)"
   ]
  },
  {
   "cell_type": "code",
   "execution_count": 7,
   "metadata": {},
   "outputs": [],
   "source": [
    "input_csv = \"Sounds_5_seconds/mfcc_5_sec/test_13_mfcc_features_with_labels_5sec.csv\"\n",
    "delete_label(input_csv)"
   ]
  }
 ],
 "metadata": {
  "kernelspec": {
   "display_name": "Python 3",
   "language": "python",
   "name": "python3"
  },
  "language_info": {
   "codemirror_mode": {
    "name": "ipython",
    "version": 3
   },
   "file_extension": ".py",
   "mimetype": "text/x-python",
   "name": "python",
   "nbconvert_exporter": "python",
   "pygments_lexer": "ipython3",
   "version": "3.12.2"
  }
 },
 "nbformat": 4,
 "nbformat_minor": 2
}
